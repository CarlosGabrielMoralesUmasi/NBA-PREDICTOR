{
 "cells": [
  {
   "cell_type": "markdown",
   "metadata": {},
   "source": [
    "# Exercise 2 - Title of the Notebook\n",
    "# Mi Notebook de Ciencia de Datos"
   ]
  },
  {
   "cell_type": "markdown",
   "metadata": {},
   "source": [
    "# Exercise 3 - Introduction\n",
    "\n",
    "Welcome to this Jupyter Notebook which is designed to outline some basic tools and exercises related to data science.\n"
   ]
  },
  {
   "cell_type": "markdown",
   "metadata": {},
   "source": [
    "# Exercise 4 - Data Science Languages\n",
    "\n",
    "1. Python\n",
    "2. R\n",
    "3. SQL\n",
    "4. Julia\n",
    "5. Java"
   ]
  },
  {
   "cell_type": "markdown",
   "metadata": {},
   "source": [
    "# Exercise 5 - Data Science Libraries\n",
    "1. Pandas - Data manipulation\n",
    "2. NumPy - Numerical operations\n",
    "3. Matplotlib - Plotting and visualization\n",
    "4. Scikit-learn - Machine learning\n",
    "5. TensorFlow - Deep learning"
   ]
  },
  {
   "cell_type": "markdown",
   "metadata": {},
   "source": [
    "# Exercise 6 - Data Science Tools\n",
    "\n",
    "| Tool          | Type             | Description                              |\n",
    "|---------------|------------------|------------------------------------------|\n",
    "| Jupyter       | Development Tool | Interactive computing and notebooks      |\n",
    "| GitHub        | Version Control  | Code hosting and collaboration           |\n",
    "| Tableau       | Visualization    | Business intelligence and data viz       |\n",
    "| SQL databases | Database         | Data storage and complex querying        |\n",
    "| Python        | Programming      | Core language for data science operations|\n"
   ]
  },
  {
   "cell_type": "markdown",
   "metadata": {},
   "source": [
    "# Exercise 7 - Arithmetic Expression Examples\n",
    "In this section, we'll go over simple arithmetic operations:\n",
    "- Addition (+)\n",
    "- Subtraction (-)\n",
    "- Multiplication (*)\n",
    "- Division (/)"
   ]
  },
  {
   "cell_type": "markdown",
   "metadata": {},
   "source": [
    "# Exercise 8 - Multiply and Add Numbers"
   ]
  },
  {
   "cell_type": "code",
   "execution_count": 2,
   "metadata": {},
   "outputs": [
    {
     "name": "stdout",
     "output_type": "stream",
     "text": [
      "17\n"
     ]
    }
   ],
   "source": [
    "# Multiply and add numbers\n",
    "result = 5 * 3 + 2\n",
    "print(result)"
   ]
  },
  {
   "cell_type": "markdown",
   "metadata": {},
   "source": [
    "Exercise 9 - Convert Minutes to Hours"
   ]
  },
  {
   "cell_type": "code",
   "execution_count": 3,
   "metadata": {},
   "outputs": [
    {
     "name": "stdout",
     "output_type": "stream",
     "text": [
      "120 minutes is 2.0 hours.\n"
     ]
    }
   ],
   "source": [
    "# Convert minutes to hours\n",
    "minutes = 120\n",
    "hours = minutes / 60\n",
    "print(f\"{minutes} minutes is {hours} hours.\")\n"
   ]
  },
  {
   "cell_type": "markdown",
   "metadata": {},
   "source": [
    "Exercise 10 - Objectives\n",
    "The objectives of this notebook are:\n",
    "\n",
    "Introduce data science languages and tools.\n",
    "Provide simple arithmetic examples.\n",
    "Demonstrate basic programming capabilities in Python"
   ]
  },
  {
   "cell_type": "markdown",
   "metadata": {},
   "source": [
    "Exercise 11 - Author’s Name\n",
    "Author: Carlos Morales Umasi\n",
    "\n"
   ]
  }
 ],
 "metadata": {
  "kernelspec": {
   "display_name": "myenv",
   "language": "python",
   "name": "python3"
  },
  "language_info": {
   "codemirror_mode": {
    "name": "ipython",
    "version": 3
   },
   "file_extension": ".py",
   "mimetype": "text/x-python",
   "name": "python",
   "nbconvert_exporter": "python",
   "pygments_lexer": "ipython3",
   "version": "3.11.5"
  }
 },
 "nbformat": 4,
 "nbformat_minor": 2
}
